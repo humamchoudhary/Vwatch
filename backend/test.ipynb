{
 "cells": [
  {
   "cell_type": "code",
   "execution_count": 2,
   "metadata": {},
   "outputs": [],
   "source": [
    "from Essentials.EpsLinkedList import *\n",
    "from tinydb import TinyDB, Query\n",
    "import pickle\n",
    "import requests"
   ]
  },
  {
   "cell_type": "code",
   "execution_count": null,
   "metadata": {},
   "outputs": [],
   "source": [
    "table = TinyDB(\"database.json\").table(\"Anime_data\")\n",
    "q = Query()\n",
    "\n",
    "dict = {}\n",
    "for anime in table.all():\n",
    "    anime_list = LinkedList()\n",
    "    for eps in anime[\"eps\"]:\n",
    "        anime_list.insert(eps)\n",
    "    dict[anime[\"animeID\"]] = anime_list\n",
    "\n",
    "\n",
    "with open('anime.pkl', 'wb') as f:\n",
    "    pickle.dump(dict, f)\n"
   ]
  },
  {
   "cell_type": "code",
   "execution_count": null,
   "metadata": {},
   "outputs": [],
   "source": [
    "DB = TinyDB(\"database.json\")\n",
    "table = DB.table(\"User_Data\")\n",
    "myusername = \"humam02\"\n",
    "data = table.search(q.username == myusername).pop()\n",
    "\n",
    "token = data[\"token\"]\n",
    "eps_no = 2\n",
    "profilename = \"humam02\"\n",
    "\n",
    "id = \"tv/watch-initial-d-fourth-stage-project-d-20269\"\n",
    "file = open('anime.pkl', 'rb')\n",
    "animelist = pickle.load(file)\n",
    "file.close()\n",
    "obj = animelist[id]\n",
    "obj.nextep(eps_no,token,profilename)\n"
   ]
  },
  {
   "cell_type": "code",
   "execution_count": null,
   "metadata": {},
   "outputs": [],
   "source": [
    "with open(f'{token}.pkl', 'rb') as f:\n",
    "    usertree = pickle.load(f)\n",
    "\n",
    "userprofile = usertree.load_profile(profilename)\n",
    "userprofile.watched[0][\"animeID\"]"
   ]
  },
  {
   "cell_type": "code",
   "execution_count": null,
   "metadata": {},
   "outputs": [],
   "source": [
    "id = \"tv/watch-initial-d-fourth-stage-project-d-20269\"\n",
    "file = open('anime.pkl', 'rb')\n",
    "animelist = pickle.load(file)\n",
    "file.close()\n",
    "obj = animelist[id]\n",
    "obj.nextep()"
   ]
  },
  {
   "cell_type": "code",
   "execution_count": 6,
   "metadata": {},
   "outputs": [],
   "source": [
    "\n",
    "url = \"http://localhost:3000/movies/flixhq\"\n",
    "\n",
    "url_keys = {\n",
    "    \"search\": \"/\",\n",
    "    \"info\": \"/info?id=\",\n",
    "    \"urls\": \"/watch?episodeId=\"  # /id\n",
    "}\n",
    "\n"
   ]
  },
  {
   "cell_type": "code",
   "execution_count": 13,
   "metadata": {},
   "outputs": [
    {
     "name": "stdout",
     "output_type": "stream",
     "text": [
      "<class 'tinydb.table.Document'>\n",
      ".\n",
      "/\n",
      "<class 'tinydb.table.Document'>\n",
      "945376\n",
      "945377\n",
      "945378\n",
      "945379\n",
      "945380\n",
      "945381\n",
      "945382\n",
      "945383\n",
      "945384\n",
      "945385\n",
      "945386\n",
      "945387\n",
      "945388\n",
      "945389\n",
      "945390\n",
      "945391\n",
      "945393\n",
      "945394\n",
      "945395\n",
      "945396\n",
      "945397\n",
      "945398\n",
      "945399\n",
      "945400\n",
      "945401\n",
      "945402\n",
      "945403\n",
      "945404\n",
      "945405\n",
      "945406\n",
      "945407\n",
      "945408\n",
      "945409\n",
      "945410\n",
      "945411\n",
      "945412\n",
      "945413\n",
      "945414\n",
      "945415\n",
      "945416\n",
      "945417\n",
      "945418\n",
      "945419\n",
      "945420\n",
      "945421\n",
      "945422\n",
      "945423\n",
      "945424\n",
      "945425\n",
      "945426\n",
      "945427\n",
      "945428\n",
      "945429\n",
      "945430\n",
      "945431\n",
      "945432\n",
      "945433\n",
      "945434\n",
      "945435\n",
      "945436\n",
      "945437\n",
      "945438\n",
      "945439\n",
      "945440\n",
      "945441\n",
      "945442\n",
      "945443\n",
      "945444\n",
      "945445\n",
      "945446\n",
      "945447\n",
      "945448\n",
      "945450\n",
      "'sources'\n",
      "http://localhost:3000/movies/flixhq/watch?episodeId=945539&mediaId=tv/watch-bleach-39484\n",
      "945557\n",
      ".\n",
      "<class 'tinydb.table.Document'>\n",
      ".\n",
      "<class 'tinydb.table.Document'>\n",
      "1159803\n",
      ".\n",
      "<class 'tinydb.table.Document'>\n",
      ".\n",
      "<class 'tinydb.table.Document'>\n",
      "40048\n",
      "40209\n",
      ".\n",
      "<class 'tinydb.table.Document'>\n",
      ".\n",
      "<class 'tinydb.table.Document'>\n",
      ".\n"
     ]
    }
   ],
   "source": [
    "table = TinyDB(\"database.json\").table(\"Anime_data\")\n",
    "test_table = TinyDB(\"testbase.json\").table(\"Anime_data\")\n",
    "q = Query()\n",
    "# print(\"Action\" in q.genres)\n",
    "for data in table.all():\n",
    "    print(type(data))\n",
    "    \n",
    "    for eps in data[\"episodes\"]:\n",
    "        # print(eps)\n",
    "        if eps[\"url\"] == None:\n",
    "            r = requests.get(f\"{url}{url_keys['urls']}{eps['id']}&mediaId={data['id']}\")\n",
    "            # print(r.url)\n",
    "\n",
    "            try:\n",
    "                r = r.json()[\"sources\"]\n",
    "                eps[\"url\"] = r[1][\"url\"]\n",
    "                print(eps['id'])\n",
    "            except Exception as e:\n",
    "                print(e)\n",
    "                print(f\"{url}{url_keys['urls']}{eps['id']}&mediaId={data['id']}\")\n",
    "    print(\".\")\n",
    "    # print(data)\n",
    "    try:\n",
    "        test_table.insert(data)\n",
    "    except:\n",
    "        print(\"/\")\n"
   ]
  },
  {
   "cell_type": "code",
   "execution_count": null,
   "metadata": {},
   "outputs": [],
   "source": [
    "table = TinyDB(\"database.json\").table(\"Anime_data\")\n",
    "q = Query()\n",
    "# print(\"Action\" in q.genres)\n",
    "list = []\n",
    "for data in table.all():\n",
    "    # print(data)\n",
    "    for eps in data[\"episodes\"]:\n",
    "        # print(eps)\n",
    "        if eps[\"url\"] == None:\n",
    "            list.append(eps['id'])\n",
    "print(list)"
   ]
  },
  {
   "cell_type": "code",
   "execution_count": null,
   "metadata": {},
   "outputs": [],
   "source": [
    "table.search(q.rating == 5.6)"
   ]
  },
  {
   "cell_type": "code",
   "execution_count": null,
   "metadata": {},
   "outputs": [],
   "source": [
    "table.search(q.rating == 5.6)"
   ]
  },
  {
   "cell_type": "code",
   "execution_count": null,
   "metadata": {},
   "outputs": [],
   "source": [
    "print('\\a')"
   ]
  }
 ],
 "metadata": {
  "kernelspec": {
   "display_name": "Python 3",
   "language": "python",
   "name": "python3"
  },
  "language_info": {
   "codemirror_mode": {
    "name": "ipython",
    "version": 3
   },
   "file_extension": ".py",
   "mimetype": "text/x-python",
   "name": "python",
   "nbconvert_exporter": "python",
   "pygments_lexer": "ipython3",
   "version": "3.10.6"
  },
  "orig_nbformat": 4,
  "vscode": {
   "interpreter": {
    "hash": "4c5140de0e17bf24948569a5230c2c520078014eae70d53094480759e70d125c"
   }
  }
 },
 "nbformat": 4,
 "nbformat_minor": 2
}
