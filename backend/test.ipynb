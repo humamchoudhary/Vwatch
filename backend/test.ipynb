{
 "cells": [
  {
   "cell_type": "code",
   "execution_count": 18,
   "metadata": {},
   "outputs": [],
   "source": [
    "from Essentials.EpsLinkedList import *\n",
    "from tinydb import TinyDB, Query\n",
    "import pickle\n"
   ]
  },
  {
   "cell_type": "code",
   "execution_count": 19,
   "metadata": {},
   "outputs": [],
   "source": [
    "table = TinyDB(\"database.json\").table(\"Anime_data\")\n",
    "q = Query()\n",
    "\n",
    "dict = {}\n",
    "for anime in table.all():\n",
    "    anime_list = LinkedList()\n",
    "    for eps in anime[\"eps\"]:\n",
    "        anime_list.insert(eps)\n",
    "    dict[anime[\"animeID\"]] = anime_list\n",
    "\n",
    "\n",
    "with open('anime.pkl', 'wb') as f:\n",
    "    pickle.dump(dict, f)\n"
   ]
  },
  {
   "cell_type": "code",
   "execution_count": 20,
   "metadata": {},
   "outputs": [
    {
     "name": "stdout",
     "output_type": "stream",
     "text": [
      "./file/Initial D - 4x03 - The Most Powerful Man Of The Toudou School   [DarkDream].mkv\n"
     ]
    }
   ],
   "source": [
    "DB = TinyDB(\"database.json\")\n",
    "table = DB.table(\"User_Data\")\n",
    "myusername = \"humam02\"\n",
    "data = table.search(q.username == myusername).pop()\n",
    "\n",
    "token = data[\"token\"]\n",
    "eps_no = 2\n",
    "profilename = \"humam02\"\n",
    "\n",
    "id = \"tv/watch-initial-d-fourth-stage-project-d-20269\"\n",
    "file = open('anime.pkl', 'rb')\n",
    "animelist = pickle.load(file)\n",
    "file.close()\n",
    "obj = animelist[id]\n",
    "obj.nextep(eps_no,token,profilename)\n"
   ]
  },
  {
   "cell_type": "code",
   "execution_count": 21,
   "metadata": {},
   "outputs": [
    {
     "data": {
      "text/plain": [
       "[True, True]"
      ]
     },
     "execution_count": 21,
     "metadata": {},
     "output_type": "execute_result"
    }
   ],
   "source": [
    "with open(f'{token}.pkl', 'rb') as f:\n",
    "    usertree = pickle.load(f)\n",
    "\n",
    "userprofile = usertree.load_profile(profilename)\n",
    "userprofile.watched[0][\"animeID\"]"
   ]
  },
  {
   "cell_type": "code",
   "execution_count": 6,
   "metadata": {},
   "outputs": [
    {
     "data": {
      "text/plain": [
       "'./file/Initial D - 4x02 - Full Throttle! Downhill Battle   [DarkDream].mkv'"
      ]
     },
     "execution_count": 6,
     "metadata": {},
     "output_type": "execute_result"
    }
   ],
   "source": [
    "id = \"tv/watch-initial-d-fourth-stage-project-d-20269\"\n",
    "file = open('anime.pkl', 'rb')\n",
    "animelist = pickle.load(file)\n",
    "file.close()\n",
    "obj = animelist[id]\n",
    "obj.nextep()"
   ]
  },
  {
   "cell_type": "code",
   "execution_count": 18,
   "metadata": {},
   "outputs": [
    {
     "data": {
      "text/plain": [
       "dict_keys(['Action', 'Adventure', 'Science Fiction', 'Fantasy', 'Drama', 'Thriller', 'Horror', 'Mystery', 'Family', 'War', 'Comedy', 'Romance', 'Music', 'Animation'])"
      ]
     },
     "execution_count": 18,
     "metadata": {},
     "output_type": "execute_result"
    }
   ],
   "source": [
    "table = TinyDB(\"database.json\").table(\"Movie_data\")\n",
    "q = Query()\n",
    "# print(\"Action\" in q.genres)\n",
    "list = {}\n",
    "for data in table.all():\n",
    "    for genres in data[\"genres\"]:\n",
    "        list[genres] = \"\"\n",
    "list.keys()\n"
   ]
  },
  {
   "cell_type": "code",
   "execution_count": null,
   "metadata": {},
   "outputs": [],
   "source": [
    "table.search(q.rating == 5.6)"
   ]
  },
  {
   "cell_type": "code",
   "execution_count": null,
   "metadata": {},
   "outputs": [],
   "source": [
    "table.search(q.rating == 5.6)"
   ]
  }
 ],
 "metadata": {
  "kernelspec": {
   "display_name": "Python 3",
   "language": "python",
   "name": "python3"
  },
  "language_info": {
   "codemirror_mode": {
    "name": "ipython",
    "version": 3
   },
   "file_extension": ".py",
   "mimetype": "text/x-python",
   "name": "python",
   "nbconvert_exporter": "python",
   "pygments_lexer": "ipython3",
   "version": "3.10.5"
  },
  "orig_nbformat": 4,
  "vscode": {
   "interpreter": {
    "hash": "ea8a3a791dabeeedd8d4a860386e2dbf6d737689071050b652b3e337869ec713"
   }
  }
 },
 "nbformat": 4,
 "nbformat_minor": 2
}
