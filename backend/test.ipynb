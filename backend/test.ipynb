{
 "cells": [
  {
   "cell_type": "code",
   "execution_count": 1,
   "metadata": {},
   "outputs": [],
   "source": [
    "from tinydb import TinyDB, Query\n",
    "import pickle"
   ]
  },
  {
   "cell_type": "code",
   "execution_count": 12,
   "metadata": {},
   "outputs": [
    {
     "ename": "NameError",
     "evalue": "name 'LinkList' is not defined",
     "output_type": "error",
     "traceback": [
      "\u001b[1;31m---------------------------------------------------------------------------\u001b[0m",
      "\u001b[1;31mNameError\u001b[0m                                 Traceback (most recent call last)",
      "Cell \u001b[1;32mIn[12], line 7\u001b[0m\n\u001b[0;32m      5\u001b[0m \u001b[39mfor\u001b[39;00m anime \u001b[39min\u001b[39;00m table\u001b[39m.\u001b[39mall():\n\u001b[0;32m      6\u001b[0m     \u001b[39mfor\u001b[39;00m eps \u001b[39min\u001b[39;00m anime[\u001b[39m\"\u001b[39m\u001b[39meps\u001b[39m\u001b[39m\"\u001b[39m]:\n\u001b[1;32m----> 7\u001b[0m         LinkList\u001b[39m.\u001b[39minsert(eps)\n",
      "\u001b[1;31mNameError\u001b[0m: name 'LinkList' is not defined"
     ]
    }
   ],
   "source": [
    "table = TinyDB(\"database.json\").table(\"Anime_data\")\n",
    "q = Query()\n",
    "eps = 5\n",
    "dict = {}\n",
    "for anime in table.all():\n",
    "    anime_list = LinkList()\n",
    "    for eps in anime[\"eps\"]:\n",
    "        anime_list.insert(eps)\n",
    "    dict[anime[\"animeID\"]]\n",
    "# dict dump in pickle"
   ]
  }
 ],
 "metadata": {
  "kernelspec": {
   "display_name": "Python 3",
   "language": "python",
   "name": "python3"
  },
  "language_info": {
   "codemirror_mode": {
    "name": "ipython",
    "version": 3
   },
   "file_extension": ".py",
   "mimetype": "text/x-python",
   "name": "python",
   "nbconvert_exporter": "python",
   "pygments_lexer": "ipython3",
   "version": "3.10.6"
  },
  "orig_nbformat": 4,
  "vscode": {
   "interpreter": {
    "hash": "4c5140de0e17bf24948569a5230c2c520078014eae70d53094480759e70d125c"
   }
  }
 },
 "nbformat": 4,
 "nbformat_minor": 2
}
