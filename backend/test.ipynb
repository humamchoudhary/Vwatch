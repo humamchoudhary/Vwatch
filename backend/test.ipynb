{
 "cells": [
  {
   "cell_type": "code",
   "execution_count": 1,
   "metadata": {},
   "outputs": [],
   "source": [
    "from Essentials.EpsLinkedList import *\n",
    "from tinydb import TinyDB, Query\n",
    "import pickle"
   ]
  },
  {
   "cell_type": "code",
   "execution_count": null,
   "metadata": {},
   "outputs": [],
   "source": [
    "table = TinyDB(\"database.json\").table(\"Anime_data\")\n",
    "q = Query()\n",
    "eps = 5\n",
    "dict = {}\n",
    "for anime in table.all():\n",
    "    anime_list = []\n",
    "    for eps in anime[\"eps\"]:\n",
    "        anime_list.append(eps)\n",
    "    dict[anime[\"animeID\"]] = anime_list\n",
    "# dict dump in pickle\n",
    "print(dict)"
   ]
  },
  {
   "cell_type": "code",
   "execution_count": 4,
   "metadata": {},
   "outputs": [],
   "source": [
    "table = TinyDB(\"database.json\").table(\"Anime_data\")\n",
    "q = Query()\n",
    "animedict = {}\n",
    "\n",
    "for anime in table.all():\n",
    "    animeID = anime[\"animeID\"]\n",
    "    anime_list = LinkedList()\n",
    "    for eps in anime[\"eps\"]:\n",
    "        anime_list.insert(eps)\n",
    "    animedict.update({animeID:anime_list})\n",
    "    \n",
    "with open('anime.pkl', 'wb') as f:\n",
    "    pickle.dump(animedict, f)\n"
   ]
  },
  {
   "cell_type": "code",
   "execution_count": 6,
   "metadata": {},
   "outputs": [
    {
     "data": {
      "text/plain": [
       "'./file/Initial D - 4x02 - Full Throttle! Downhill Battle   [DarkDream].mkv'"
      ]
     },
     "execution_count": 6,
     "metadata": {},
     "output_type": "execute_result"
    }
   ],
   "source": [
    "id = \"tv/watch-initial-d-fourth-stage-project-d-20269\"\n",
    "file = open('anime.pkl', 'rb')\n",
    "animelist = pickle.load(file)\n",
    "file.close()\n",
    "obj = animelist[id]\n",
    "obj.nextep()"
   ]
  },
  {
   "cell_type": "code",
   "execution_count": 10,
   "metadata": {},
   "outputs": [
    {
     "name": "stdout",
     "output_type": "stream",
     "text": [
      "movie/watch-san-andreas-19601\n",
      "movie/watch-maggie-18119\n",
      "movie/watch-heaven-knows-mr-allison-2902\n",
      "movie/watch-the-little-death-9725\n",
      "movie/watch-san-andreas-19601\n",
      "movie/watch-heaven-knows-mr-allison-2902\n",
      "movie/watch-ricki-and-the-flash-11576\n",
      "tv/watch-freedom-26211\n",
      "movie/watch-maggie-18119\n"
     ]
    }
   ],
   "source": [
    "table = TinyDB(\"database.json\").table(\"Movie_data\")\n",
    "q = Query()\n",
    "# print(\"Action\" in q.genres)\n",
    "for data in table.all():\n",
    "    if \"Drama\" in data[\"genres\"]:\n",
    "        print(data[\"id\"])\n"
   ]
  }
 ],
 "metadata": {
  "kernelspec": {
   "display_name": "Python 3",
   "language": "python",
   "name": "python3"
  },
  "language_info": {
   "codemirror_mode": {
    "name": "ipython",
    "version": 3
   },
   "file_extension": ".py",
   "mimetype": "text/x-python",
   "name": "python",
   "nbconvert_exporter": "python",
   "pygments_lexer": "ipython3",
   "version": "3.10.6"
  },
  "orig_nbformat": 4,
  "vscode": {
   "interpreter": {
    "hash": "4c5140de0e17bf24948569a5230c2c520078014eae70d53094480759e70d125c"
   }
  }
 },
 "nbformat": 4,
 "nbformat_minor": 2
}
