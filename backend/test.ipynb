{
 "cells": [
  {
   "cell_type": "code",
   "execution_count": 2,
   "metadata": {},
   "outputs": [],
   "source": [
    "from Essentials.EpsLinkedList import *\n",
    "from tinydb import TinyDB, Query\n",
    "import pickle\n",
    "import requests"
   ]
  },
  {
   "cell_type": "code",
   "execution_count": null,
   "metadata": {},
   "outputs": [],
   "source": [
    "table = TinyDB(\"database.json\").table(\"Anime_data\")\n",
    "q = Query()\n",
    "\n",
    "dict = {}\n",
    "for anime in table.all():\n",
    "    anime_list = LinkedList()\n",
    "    for eps in anime[\"eps\"]:\n",
    "        anime_list.insert(eps)\n",
    "    dict[anime[\"animeID\"]] = anime_list\n",
    "\n",
    "\n",
    "with open('anime.pkl', 'wb') as f:\n",
    "    pickle.dump(dict, f)\n"
   ]
  },
  {
   "cell_type": "code",
   "execution_count": null,
   "metadata": {},
   "outputs": [],
   "source": [
    "DB = TinyDB(\"database.json\")\n",
    "table = DB.table(\"User_Data\")\n",
    "myusername = \"humam02\"\n",
    "data = table.search(q.username == myusername).pop()\n",
    "\n",
    "token = data[\"token\"]\n",
    "eps_no = 2\n",
    "profilename = \"humam02\"\n",
    "\n",
    "id = \"tv/watch-initial-d-fourth-stage-project-d-20269\"\n",
    "file = open('anime.pkl', 'rb')\n",
    "animelist = pickle.load(file)\n",
    "file.close()\n",
    "obj = animelist[id]\n",
    "obj.nextep(eps_no,token,profilename)\n"
   ]
  },
  {
   "cell_type": "code",
   "execution_count": null,
   "metadata": {},
   "outputs": [],
   "source": [
    "with open(f'{token}.pkl', 'rb') as f:\n",
    "    usertree = pickle.load(f)\n",
    "\n",
    "userprofile = usertree.load_profile(profilename)\n",
    "userprofile.watched[0][\"animeID\"]"
   ]
  },
  {
   "cell_type": "code",
   "execution_count": null,
   "metadata": {},
   "outputs": [],
   "source": [
    "id = \"tv/watch-initial-d-fourth-stage-project-d-20269\"\n",
    "file = open('anime.pkl', 'rb')\n",
    "animelist = pickle.load(file)\n",
    "file.close()\n",
    "obj = animelist[id]\n",
    "obj.nextep()"
   ]
  },
  {
   "cell_type": "code",
   "execution_count": 6,
   "metadata": {},
   "outputs": [],
   "source": [
    "\n",
    "url = \"http://localhost:3000/movies/flixhq\"\n",
    "\n",
    "url_keys = {\n",
    "    \"search\": \"/\",\n",
    "    \"info\": \"/info?id=\",\n",
    "    \"urls\": \"/watch?episodeId=\"  # /id\n",
    "}\n",
    "\n"
   ]
  },
  {
   "cell_type": "code",
   "execution_count": 13,
   "metadata": {},
   "outputs": [
    {
     "name": "stdout",
     "output_type": "stream",
     "text": [
      "<class 'tinydb.table.Document'>\n",
      ".\n",
      "/\n",
      "<class 'tinydb.table.Document'>\n",
      "945376\n",
      "945377\n",
      "945378\n",
      "945379\n",
      "945380\n",
      "945381\n",
      "945382\n",
      "945383\n",
      "945384\n",
      "945385\n",
      "945386\n",
      "945387\n",
      "945388\n",
      "945389\n",
      "945390\n",
      "945391\n",
      "945393\n",
      "945394\n",
      "945395\n",
      "945396\n",
      "945397\n",
      "945398\n",
      "945399\n",
      "945400\n",
      "945401\n",
      "945402\n",
      "945403\n",
      "945404\n",
      "945405\n",
      "945406\n",
      "945407\n",
      "945408\n",
      "945409\n",
      "945410\n",
      "945411\n",
      "945412\n",
      "945413\n",
      "945414\n",
      "945415\n",
      "945416\n",
      "945417\n",
      "945418\n",
      "945419\n",
      "945420\n",
      "945421\n",
      "945422\n",
      "945423\n",
      "945424\n",
      "945425\n",
      "945426\n",
      "945427\n",
      "945428\n",
      "945429\n",
      "945430\n",
      "945431\n",
      "945432\n",
      "945433\n",
      "945434\n",
      "945435\n",
      "945436\n",
      "945437\n",
      "945438\n",
      "945439\n",
      "945440\n",
      "945441\n",
      "945442\n",
      "945443\n",
      "945444\n",
      "945445\n",
      "945446\n",
      "945447\n",
      "945448\n",
      "945450\n",
      "'sources'\n",
      "http://localhost:3000/movies/flixhq/watch?episodeId=945539&mediaId=tv/watch-bleach-39484\n",
      "945557\n",
      ".\n",
      "<class 'tinydb.table.Document'>\n",
      ".\n",
      "<class 'tinydb.table.Document'>\n",
      "1159803\n",
      ".\n",
      "<class 'tinydb.table.Document'>\n",
      ".\n",
      "<class 'tinydb.table.Document'>\n",
      "40048\n",
      "40209\n",
      ".\n",
      "<class 'tinydb.table.Document'>\n",
      ".\n",
      "<class 'tinydb.table.Document'>\n",
      ".\n"
     ]
    }
   ],
   "source": [
    "table = TinyDB(\"database.json\").table(\"Anime_data\")\n",
    "test_table = TinyDB(\"testbase.json\").table(\"Anime_data\")\n",
    "q = Query()\n",
    "# print(\"Action\" in q.genres)\n",
    "for data in table.all():\n",
    "    print(type(data))\n",
    "    \n",
    "    for eps in data[\"episodes\"]:\n",
    "        # print(eps)\n",
    "        if eps[\"url\"] == None:\n",
    "            r = requests.get(f\"{url}{url_keys['urls']}{eps['id']}&mediaId={data['id']}\")\n",
    "            # print(r.url)\n",
    "\n",
    "            try:\n",
    "                r = r.json()[\"sources\"]\n",
    "                eps[\"url\"] = r[1][\"url\"]\n",
    "                print(eps['id'])\n",
    "            except Exception as e:\n",
    "                print(e)\n",
    "                print(f\"{url}{url_keys['urls']}{eps['id']}&mediaId={data['id']}\")\n",
    "    print(\".\")\n",
    "    # print(data)\n",
    "    try:\n",
    "        test_table.insert(data)\n",
    "    except:\n",
    "        print(\"/\")\n"
   ]
  },
  {
   "cell_type": "code",
   "execution_count": 7,
   "metadata": {},
   "outputs": [
    {
     "data": {
      "text/plain": [
       "[]"
      ]
     },
     "execution_count": 7,
     "metadata": {},
     "output_type": "execute_result"
    }
   ],
   "source": [
    "import re\n",
    "\n",
    "\n",
    "q = Query()\n",
    "TinyDB(\"database.json\").table(\"Anime_data\").search(q.name.matches('Initial D: Fourth Stage - Project D', flags=re.IGNORECASE))"
   ]
  },
  {
   "cell_type": "code",
   "execution_count": null,
   "metadata": {},
   "outputs": [],
   "source": [
    "table = TinyDB(\"database.json\").table(\"Anime_data\")\n",
    "q = Query()\n",
    "# print(\"Action\" in q.genres)\n",
    "list = []\n",
    "for data in table.all():\n",
    "    # print(data)\n",
    "    for eps in data[\"episodes\"]:\n",
    "        # print(eps)\n",
    "        if eps[\"url\"] == None:\n",
    "            list.append(eps['id'])\n",
    "print(list)"
   ]
  },
  {
   "cell_type": "code",
   "execution_count": null,
   "metadata": {},
   "outputs": [],
   "source": [
    "table.search(q.rating == 5.6)"
   ]
  },
  {
   "cell_type": "code",
   "execution_count": null,
   "metadata": {},
   "outputs": [],
   "source": [
    "table.search(q.rating == 5.6)"
   ]
  },
  {
   "cell_type": "code",
   "execution_count": 7,
   "metadata": {},
   "outputs": [
    {
     "data": {
      "text/plain": [
       "True"
      ]
     },
     "execution_count": 7,
     "metadata": {},
     "output_type": "execute_result"
    }
   ],
   "source": [
    "'star wars' in \"star wars the force awakens\"\n",
    "['Star Wars', 'Star', 'Wars']"
   ]
  },
  {
   "cell_type": "code",
   "execution_count": 1,
   "metadata": {},
   "outputs": [
    {
     "ename": "LookupError",
     "evalue": "\n**********************************************************************\n  Resource \u001b[93mpunkt\u001b[0m not found.\n  Please use the NLTK Downloader to obtain the resource:\n\n  \u001b[31m>>> import nltk\n  >>> nltk.download('punkt')\n  \u001b[0m\n  For more information see: https://www.nltk.org/data.html\n\n  Attempted to load \u001b[93mtokenizers/punkt/english.pickle\u001b[0m\n\n  Searched in:\n    - 'C:\\\\Users\\\\humam/nltk_data'\n    - 'c:\\\\Users\\\\humam\\\\AppData\\\\Local\\\\Programs\\\\Python\\\\Python310\\\\nltk_data'\n    - 'c:\\\\Users\\\\humam\\\\AppData\\\\Local\\\\Programs\\\\Python\\\\Python310\\\\share\\\\nltk_data'\n    - 'c:\\\\Users\\\\humam\\\\AppData\\\\Local\\\\Programs\\\\Python\\\\Python310\\\\lib\\\\nltk_data'\n    - 'C:\\\\Users\\\\humam\\\\AppData\\\\Roaming\\\\nltk_data'\n    - 'C:\\\\nltk_data'\n    - 'D:\\\\nltk_data'\n    - 'E:\\\\nltk_data'\n    - ''\n**********************************************************************\n",
     "output_type": "error",
     "traceback": [
      "\u001b[1;31m---------------------------------------------------------------------------\u001b[0m",
      "\u001b[1;31mLookupError\u001b[0m                               Traceback (most recent call last)",
      "Cell \u001b[1;32mIn[1], line 11\u001b[0m\n\u001b[0;32m      8\u001b[0m   \u001b[39mreturn\u001b[39;00m \u001b[39m'\u001b[39m\u001b[39m \u001b[39m\u001b[39m'\u001b[39m\u001b[39m.\u001b[39mjoin(lemmatized_words)\n\u001b[0;32m     10\u001b[0m input_string \u001b[39m=\u001b[39m \u001b[39m\"\u001b[39m\u001b[39mThe quick brown fox jumps over the lazy dog.\u001b[39m\u001b[39m\"\u001b[39m\n\u001b[1;32m---> 11\u001b[0m output_string \u001b[39m=\u001b[39m lemmatize_string(input_string)\n\u001b[0;32m     12\u001b[0m \u001b[39mprint\u001b[39m(output_string)\n",
      "Cell \u001b[1;32mIn[1], line 6\u001b[0m, in \u001b[0;36mlemmatize_string\u001b[1;34m(input_string)\u001b[0m\n\u001b[0;32m      4\u001b[0m \u001b[39mdef\u001b[39;00m \u001b[39mlemmatize_string\u001b[39m(input_string):\n\u001b[0;32m      5\u001b[0m   lemmatizer \u001b[39m=\u001b[39m WordNetLemmatizer()\n\u001b[1;32m----> 6\u001b[0m   words \u001b[39m=\u001b[39m nltk\u001b[39m.\u001b[39;49mword_tokenize(input_string)\n\u001b[0;32m      7\u001b[0m   lemmatized_words \u001b[39m=\u001b[39m [lemmatizer\u001b[39m.\u001b[39mlemmatize(word) \u001b[39mfor\u001b[39;00m word \u001b[39min\u001b[39;00m words]\n\u001b[0;32m      8\u001b[0m   \u001b[39mreturn\u001b[39;00m \u001b[39m'\u001b[39m\u001b[39m \u001b[39m\u001b[39m'\u001b[39m\u001b[39m.\u001b[39mjoin(lemmatized_words)\n",
      "File \u001b[1;32mc:\\Users\\humam\\AppData\\Local\\Programs\\Python\\Python310\\lib\\site-packages\\nltk\\tokenize\\__init__.py:129\u001b[0m, in \u001b[0;36mword_tokenize\u001b[1;34m(text, language, preserve_line)\u001b[0m\n\u001b[0;32m    114\u001b[0m \u001b[39mdef\u001b[39;00m \u001b[39mword_tokenize\u001b[39m(text, language\u001b[39m=\u001b[39m\u001b[39m\"\u001b[39m\u001b[39menglish\u001b[39m\u001b[39m\"\u001b[39m, preserve_line\u001b[39m=\u001b[39m\u001b[39mFalse\u001b[39;00m):\n\u001b[0;32m    115\u001b[0m     \u001b[39m\"\"\"\u001b[39;00m\n\u001b[0;32m    116\u001b[0m \u001b[39m    Return a tokenized copy of *text*,\u001b[39;00m\n\u001b[0;32m    117\u001b[0m \u001b[39m    using NLTK's recommended word tokenizer\u001b[39;00m\n\u001b[1;32m   (...)\u001b[0m\n\u001b[0;32m    127\u001b[0m \u001b[39m    :type preserve_line: bool\u001b[39;00m\n\u001b[0;32m    128\u001b[0m \u001b[39m    \"\"\"\u001b[39;00m\n\u001b[1;32m--> 129\u001b[0m     sentences \u001b[39m=\u001b[39m [text] \u001b[39mif\u001b[39;00m preserve_line \u001b[39melse\u001b[39;00m sent_tokenize(text, language)\n\u001b[0;32m    130\u001b[0m     \u001b[39mreturn\u001b[39;00m [\n\u001b[0;32m    131\u001b[0m         token \u001b[39mfor\u001b[39;00m sent \u001b[39min\u001b[39;00m sentences \u001b[39mfor\u001b[39;00m token \u001b[39min\u001b[39;00m _treebank_word_tokenizer\u001b[39m.\u001b[39mtokenize(sent)\n\u001b[0;32m    132\u001b[0m     ]\n",
      "File \u001b[1;32mc:\\Users\\humam\\AppData\\Local\\Programs\\Python\\Python310\\lib\\site-packages\\nltk\\tokenize\\__init__.py:106\u001b[0m, in \u001b[0;36msent_tokenize\u001b[1;34m(text, language)\u001b[0m\n\u001b[0;32m     96\u001b[0m \u001b[39mdef\u001b[39;00m \u001b[39msent_tokenize\u001b[39m(text, language\u001b[39m=\u001b[39m\u001b[39m\"\u001b[39m\u001b[39menglish\u001b[39m\u001b[39m\"\u001b[39m):\n\u001b[0;32m     97\u001b[0m     \u001b[39m\"\"\"\u001b[39;00m\n\u001b[0;32m     98\u001b[0m \u001b[39m    Return a sentence-tokenized copy of *text*,\u001b[39;00m\n\u001b[0;32m     99\u001b[0m \u001b[39m    using NLTK's recommended sentence tokenizer\u001b[39;00m\n\u001b[1;32m   (...)\u001b[0m\n\u001b[0;32m    104\u001b[0m \u001b[39m    :param language: the model name in the Punkt corpus\u001b[39;00m\n\u001b[0;32m    105\u001b[0m \u001b[39m    \"\"\"\u001b[39;00m\n\u001b[1;32m--> 106\u001b[0m     tokenizer \u001b[39m=\u001b[39m load(\u001b[39mf\u001b[39;49m\u001b[39m\"\u001b[39;49m\u001b[39mtokenizers/punkt/\u001b[39;49m\u001b[39m{\u001b[39;49;00mlanguage\u001b[39m}\u001b[39;49;00m\u001b[39m.pickle\u001b[39;49m\u001b[39m\"\u001b[39;49m)\n\u001b[0;32m    107\u001b[0m     \u001b[39mreturn\u001b[39;00m tokenizer\u001b[39m.\u001b[39mtokenize(text)\n",
      "File \u001b[1;32mc:\\Users\\humam\\AppData\\Local\\Programs\\Python\\Python310\\lib\\site-packages\\nltk\\data.py:750\u001b[0m, in \u001b[0;36mload\u001b[1;34m(resource_url, format, cache, verbose, logic_parser, fstruct_reader, encoding)\u001b[0m\n\u001b[0;32m    747\u001b[0m     \u001b[39mprint\u001b[39m(\u001b[39mf\u001b[39m\u001b[39m\"\u001b[39m\u001b[39m<<Loading \u001b[39m\u001b[39m{\u001b[39;00mresource_url\u001b[39m}\u001b[39;00m\u001b[39m>>\u001b[39m\u001b[39m\"\u001b[39m)\n\u001b[0;32m    749\u001b[0m \u001b[39m# Load the resource.\u001b[39;00m\n\u001b[1;32m--> 750\u001b[0m opened_resource \u001b[39m=\u001b[39m _open(resource_url)\n\u001b[0;32m    752\u001b[0m \u001b[39mif\u001b[39;00m \u001b[39mformat\u001b[39m \u001b[39m==\u001b[39m \u001b[39m\"\u001b[39m\u001b[39mraw\u001b[39m\u001b[39m\"\u001b[39m:\n\u001b[0;32m    753\u001b[0m     resource_val \u001b[39m=\u001b[39m opened_resource\u001b[39m.\u001b[39mread()\n",
      "File \u001b[1;32mc:\\Users\\humam\\AppData\\Local\\Programs\\Python\\Python310\\lib\\site-packages\\nltk\\data.py:876\u001b[0m, in \u001b[0;36m_open\u001b[1;34m(resource_url)\u001b[0m\n\u001b[0;32m    873\u001b[0m protocol, path_ \u001b[39m=\u001b[39m split_resource_url(resource_url)\n\u001b[0;32m    875\u001b[0m \u001b[39mif\u001b[39;00m protocol \u001b[39mis\u001b[39;00m \u001b[39mNone\u001b[39;00m \u001b[39mor\u001b[39;00m protocol\u001b[39m.\u001b[39mlower() \u001b[39m==\u001b[39m \u001b[39m\"\u001b[39m\u001b[39mnltk\u001b[39m\u001b[39m\"\u001b[39m:\n\u001b[1;32m--> 876\u001b[0m     \u001b[39mreturn\u001b[39;00m find(path_, path \u001b[39m+\u001b[39;49m [\u001b[39m\"\u001b[39;49m\u001b[39m\"\u001b[39;49m])\u001b[39m.\u001b[39mopen()\n\u001b[0;32m    877\u001b[0m \u001b[39melif\u001b[39;00m protocol\u001b[39m.\u001b[39mlower() \u001b[39m==\u001b[39m \u001b[39m\"\u001b[39m\u001b[39mfile\u001b[39m\u001b[39m\"\u001b[39m:\n\u001b[0;32m    878\u001b[0m     \u001b[39m# urllib might not use mode='rb', so handle this one ourselves:\u001b[39;00m\n\u001b[0;32m    879\u001b[0m     \u001b[39mreturn\u001b[39;00m find(path_, [\u001b[39m\"\u001b[39m\u001b[39m\"\u001b[39m])\u001b[39m.\u001b[39mopen()\n",
      "File \u001b[1;32mc:\\Users\\humam\\AppData\\Local\\Programs\\Python\\Python310\\lib\\site-packages\\nltk\\data.py:583\u001b[0m, in \u001b[0;36mfind\u001b[1;34m(resource_name, paths)\u001b[0m\n\u001b[0;32m    581\u001b[0m sep \u001b[39m=\u001b[39m \u001b[39m\"\u001b[39m\u001b[39m*\u001b[39m\u001b[39m\"\u001b[39m \u001b[39m*\u001b[39m \u001b[39m70\u001b[39m\n\u001b[0;32m    582\u001b[0m resource_not_found \u001b[39m=\u001b[39m \u001b[39mf\u001b[39m\u001b[39m\"\u001b[39m\u001b[39m\\n\u001b[39;00m\u001b[39m{\u001b[39;00msep\u001b[39m}\u001b[39;00m\u001b[39m\\n\u001b[39;00m\u001b[39m{\u001b[39;00mmsg\u001b[39m}\u001b[39;00m\u001b[39m\\n\u001b[39;00m\u001b[39m{\u001b[39;00msep\u001b[39m}\u001b[39;00m\u001b[39m\\n\u001b[39;00m\u001b[39m\"\u001b[39m\n\u001b[1;32m--> 583\u001b[0m \u001b[39mraise\u001b[39;00m \u001b[39mLookupError\u001b[39;00m(resource_not_found)\n",
      "\u001b[1;31mLookupError\u001b[0m: \n**********************************************************************\n  Resource \u001b[93mpunkt\u001b[0m not found.\n  Please use the NLTK Downloader to obtain the resource:\n\n  \u001b[31m>>> import nltk\n  >>> nltk.download('punkt')\n  \u001b[0m\n  For more information see: https://www.nltk.org/data.html\n\n  Attempted to load \u001b[93mtokenizers/punkt/english.pickle\u001b[0m\n\n  Searched in:\n    - 'C:\\\\Users\\\\humam/nltk_data'\n    - 'c:\\\\Users\\\\humam\\\\AppData\\\\Local\\\\Programs\\\\Python\\\\Python310\\\\nltk_data'\n    - 'c:\\\\Users\\\\humam\\\\AppData\\\\Local\\\\Programs\\\\Python\\\\Python310\\\\share\\\\nltk_data'\n    - 'c:\\\\Users\\\\humam\\\\AppData\\\\Local\\\\Programs\\\\Python\\\\Python310\\\\lib\\\\nltk_data'\n    - 'C:\\\\Users\\\\humam\\\\AppData\\\\Roaming\\\\nltk_data'\n    - 'C:\\\\nltk_data'\n    - 'D:\\\\nltk_data'\n    - 'E:\\\\nltk_data'\n    - ''\n**********************************************************************\n"
     ]
    }
   ],
   "source": [
    "import nltk\n",
    "from nltk.stem import WordNetLemmatizer\n",
    "\n",
    "def lemmatize_string(input_string):\n",
    "  lemmatizer = WordNetLemmatizer()\n",
    "  words = nltk.word_tokenize(input_string)\n",
    "  lemmatized_words = [lemmatizer.lemmatize(word) for word in words]\n",
    "  return ' '.join(lemmatized_words)\n",
    "\n",
    "input_string = \"The quick brown fox jumps over the lazy dog.\"\n",
    "output_string = lemmatize_string(input_string)\n",
    "print(output_string)\n"
   ]
  }
 ],
 "metadata": {
  "kernelspec": {
   "display_name": "Python 3",
   "language": "python",
   "name": "python3"
  },
  "language_info": {
   "codemirror_mode": {
    "name": "ipython",
    "version": 3
   },
   "file_extension": ".py",
   "mimetype": "text/x-python",
   "name": "python",
   "nbconvert_exporter": "python",
   "pygments_lexer": "ipython3",
   "version": "3.10.6"
  },
  "orig_nbformat": 4,
  "vscode": {
   "interpreter": {
    "hash": "4c5140de0e17bf24948569a5230c2c520078014eae70d53094480759e70d125c"
   }
  }
 },
 "nbformat": 4,
 "nbformat_minor": 2
}
